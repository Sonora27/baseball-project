{
 "cells": [
  {
   "cell_type": "code",
   "execution_count": 11,
   "metadata": {
    "scrolled": true
   },
   "outputs": [],
   "source": [
    "import pandas as pd\n",
    "import numpy as np\n",
    "import scipy.stats as stats\n",
    "import seaborn as sns\n",
    "import matplotlib.pyplot as plt\n",
    "\n",
    "\n",
    "df = pd.read_csv('cleanpitcherdataset.csv', index_col=0)\n",
    "pd.set_option('display.max_columns', 500)\n"
   ]
  },
  {
   "cell_type": "markdown",
   "metadata": {},
   "source": [
    "# Ho: u_FB=u_SL=u_CB=u_CH\n",
    "# Ha: Ho is not true"
   ]
  },
  {
   "cell_type": "code",
   "execution_count": 12,
   "metadata": {},
   "outputs": [],
   "source": [
    "FB=df.loc[df['Best_Pitch']=='FB','SO']\n",
    "CH=df.loc[df['Best_Pitch']=='CH','SO']\n",
    "CB=df.loc[df['Best_Pitch']=='CB','SO']\n",
    "SL=df.loc[df['Best_Pitch']=='SL','SO']"
   ]
  },
  {
   "cell_type": "code",
   "execution_count": 13,
   "metadata": {
    "scrolled": true
   },
   "outputs": [
    {
     "data": {
      "text/plain": [
       "F_onewayResult(statistic=12.511918036654835, pvalue=4.6617105462062683e-08)"
      ]
     },
     "execution_count": 13,
     "metadata": {},
     "output_type": "execute_result"
    }
   ],
   "source": [
    "stats.f_oneway(FB,CH,CB,SL)"
   ]
  },
  {
   "cell_type": "code",
   "execution_count": 27,
   "metadata": {
    "scrolled": true
   },
   "outputs": [
    {
     "data": {
      "image/png": "[encoded data removed]",
      "text/plain": [
       "<Figure size 504x360 with 1 Axes>"
      ]
     },
     "metadata": {
      "needs_background": "light"
     },
     "output_type": "display_data"
    }
   ],
   "source": [
    "fig, ax = plt.subplots(figsize=(7,5))\n",
    "sns.barplot(x=['FB','CB','CH', 'SL'],y=[FB.mean(), CB.mean(), CH.mean(), SL.mean()], ax=ax)\n",
    "ax.set_xlabel(\"Starting Pitcher's Best Pitch\", fontsize=12)\n",
    "ax.set_ylabel(\"Average Strikeouts\", fontsize=12)\n",
    "ax.set_title('Average Strikeouts for a Starting Pitcher by Best Pitch')\n",
    "fig.savefig(\"Average Strikeouts for a Starting Pitcher by Best Pitch.png\")\n",
    "ax;\n",
    "\n"
   ]
  },
  {
   "cell_type": "markdown",
   "metadata": {},
   "source": [
    "# Assuming a threshold of .05, our F-statistic of 12.51 and our p-value of 10^-8 allows us to reject the null hypothesis that Best Pitch does not affect average strikeouts for a starting pitcher. This allows us to conclude that a pitcher's Best Pitch directly affects how many strikeouts they will obtain in a season."
   ]
  },
  {
   "cell_type": "markdown",
   "metadata": {},
   "source": [
    "## Ho: u_pop = u_fstrike95\n",
    "## Ha: u_pop != u_fstrike95"
   ]
  },
  {
   "cell_type": "code",
   "execution_count": 34,
   "metadata": {},
   "outputs": [],
   "source": [
    "u_pop = df[(df['IP'] > 134.0) & (df['FBv'] >= 95.0)]['SO'].mean()\n",
    "std_pop = df[(df['IP'] > 134.0) & (df['FBv'] >= 95.0)]['SO'].std()\n"
   ]
  },
  {
   "cell_type": "code",
   "execution_count": 35,
   "metadata": {},
   "outputs": [],
   "source": [
    "u_fstrike95 = df[(df['F-Strike%'] > .635) & (df['IP'] > 134.0) & (df['FBv'] >= 95.0)]['SO'].mean()\n",
    "std_fstrike95 = df[(df['F-Strike%'] > .635) & (df['IP'] > 134.0) & (df['FBv'] >= 95.0)]['SO'].std()"
   ]
  },
  {
   "cell_type": "code",
   "execution_count": 36,
   "metadata": {},
   "outputs": [],
   "source": [
    "len_fstrike95 = len(df[(df['F-Strike%'] > .635) & (df['IP'] > 134.0) & (df['FBv'] >= 95.0)]['SO'])"
   ]
  },
  {
   "cell_type": "code",
   "execution_count": 37,
   "metadata": {},
   "outputs": [
    {
     "data": {
      "text/plain": [
       "-2.604678248974154"
      ]
     },
     "execution_count": 37,
     "metadata": {},
     "output_type": "execute_result"
    }
   ],
   "source": [
    "num = u_pop - u_fstrike95\n",
    "denom = std_pop/np.sqrt(len_fstrike95)\n",
    "t_stat = num / denom\n",
    "t_stat"
   ]
  },
  {
   "cell_type": "code",
   "execution_count": 38,
   "metadata": {},
   "outputs": [],
   "source": [
    "p_val = (stats.norm.cdf(t_stat))/2"
   ]
  },
  {
   "cell_type": "code",
   "execution_count": 39,
   "metadata": {},
   "outputs": [
    {
     "data": {
      "text/plain": [
       "0.002299014319769304"
      ]
     },
     "execution_count": 39,
     "metadata": {},
     "output_type": "execute_result"
    }
   ],
   "source": [
    "p_val"
   ]
  },
  {
   "cell_type": "markdown",
   "metadata": {},
   "source": [
    "## At a significance level of .05, our threshold would be .025 in each tail. Our p-value of .002 is less than .025, thereby we reject the null hypothesis that the sample and population means are equal. Therefore, there is a statistically significant difference between these two groups. Our conclusion from these findings is that controlling for high fastball velocity, a pitcher's First Strike percentage has a strong impact on the amount of strikeouts they obtain in a year. We recommend that General Managers seek pitchers that not only have elite fastball velocity (above 95mph), but that also have an elite First Strike Percentage (above .635)."
   ]
  },
  {
   "cell_type": "code",
   "execution_count": null,
   "metadata": {},
   "outputs": [],
   "source": []
  }
 ],
 "metadata": {
  "kernelspec": {
   "display_name": "Python 3",
   "language": "python",
   "name": "python3"
  },
  "language_info": {
   "codemirror_mode": {
    "name": "ipython",
    "version": 3
   },
   "file_extension": ".py",
   "mimetype": "text/x-python",
   "name": "python",
   "nbconvert_exporter": "python",
   "pygments_lexer": "ipython3",
   "version": "3.7.6"
  }
 },
 "nbformat": 4,
 "nbformat_minor": 4
}
