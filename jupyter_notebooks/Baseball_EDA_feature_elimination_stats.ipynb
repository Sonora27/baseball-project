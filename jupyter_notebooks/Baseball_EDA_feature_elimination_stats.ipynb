{
 "cells": [
  {
   "cell_type": "markdown",
   "metadata": {},
   "source": [
    "# EDA, Feature Elimination/Engineering, and Stat Testing"
   ]
  },
  {
   "cell_type": "markdown",
   "metadata": {},
   "source": [
    "## The goals of this notebook are the following:\n",
    "## 1.perform feature engineering/ feature elimination to prepare dataframe for modeling\n",
    "## 2. perform exploratory data anaylsis to get more insight into data\n",
    "## 3. Perform statistical testing to gain more insight into data"
   ]
  },
  {
   "cell_type": "code",
   "execution_count": 1,
   "metadata": {},
   "outputs": [],
   "source": [
    "import pandas as pd #importing necessary libraries\n",
    "import numpy as np\n",
    "import matplotlib.pyplot as plt\n",
    "%matplotlib inline\n",
    "import seaborn as sns\n",
    "import scipy.stats as scs"
   ]
  },
  {
   "cell_type": "code",
   "execution_count": 2,
   "metadata": {},
   "outputs": [],
   "source": [
    "df=pd.read_csv('Cleanpitcherdataset.csv')"
   ]
  },
  {
   "cell_type": "code",
   "execution_count": 3,
   "metadata": {},
   "outputs": [
    {
     "data": {
      "text/html": [
       "<div>\n",
       "<style scoped>\n",
       "    .dataframe tbody tr th:only-of-type {\n",
       "        vertical-align: middle;\n",
       "    }\n",
       "\n",
       "    .dataframe tbody tr th {\n",
       "        vertical-align: top;\n",
       "    }\n",
       "\n",
       "    .dataframe thead th {\n",
       "        text-align: right;\n",
       "    }\n",
       "</style>\n",
       "<table border=\"1\" class=\"dataframe\">\n",
       "  <thead>\n",
       "    <tr style=\"text-align: right;\">\n",
       "      <th></th>\n",
       "      <th>Unnamed: 0</th>\n",
       "      <th>Name</th>\n",
       "      <th>Age</th>\n",
       "      <th>#days</th>\n",
       "      <th>Lev</th>\n",
       "      <th>Tm</th>\n",
       "      <th>G</th>\n",
       "      <th>GS</th>\n",
       "      <th>W</th>\n",
       "      <th>L</th>\n",
       "      <th>...</th>\n",
       "      <th>Pull%</th>\n",
       "      <th>Cent%</th>\n",
       "      <th>Oppo%</th>\n",
       "      <th>Soft%</th>\n",
       "      <th>Med%</th>\n",
       "      <th>Hard%</th>\n",
       "      <th>kwERA</th>\n",
       "      <th>TTO%</th>\n",
       "      <th>Best_Pitch</th>\n",
       "      <th>95mph+</th>\n",
       "    </tr>\n",
       "  </thead>\n",
       "  <tbody>\n",
       "    <tr>\n",
       "      <th>0</th>\n",
       "      <td>0</td>\n",
       "      <td>Tim Adleman</td>\n",
       "      <td>28</td>\n",
       "      <td>1438</td>\n",
       "      <td>MLB-NL</td>\n",
       "      <td>Cincinnati</td>\n",
       "      <td>13</td>\n",
       "      <td>13</td>\n",
       "      <td>4.0</td>\n",
       "      <td>4.0</td>\n",
       "      <td>...</td>\n",
       "      <td>0.442</td>\n",
       "      <td>0.326</td>\n",
       "      <td>0.233</td>\n",
       "      <td>0.140</td>\n",
       "      <td>0.507</td>\n",
       "      <td>0.354</td>\n",
       "      <td>4.61</td>\n",
       "      <td>0.279</td>\n",
       "      <td>FB</td>\n",
       "      <td>0</td>\n",
       "    </tr>\n",
       "    <tr>\n",
       "      <th>1</th>\n",
       "      <td>1</td>\n",
       "      <td>Chase Anderson</td>\n",
       "      <td>28</td>\n",
       "      <td>1441</td>\n",
       "      <td>MLB-NL</td>\n",
       "      <td>Milwaukee</td>\n",
       "      <td>31</td>\n",
       "      <td>30</td>\n",
       "      <td>9.0</td>\n",
       "      <td>11.0</td>\n",
       "      <td>...</td>\n",
       "      <td>0.423</td>\n",
       "      <td>0.298</td>\n",
       "      <td>0.279</td>\n",
       "      <td>0.172</td>\n",
       "      <td>0.462</td>\n",
       "      <td>0.366</td>\n",
       "      <td>4.50</td>\n",
       "      <td>0.311</td>\n",
       "      <td>SL</td>\n",
       "      <td>0</td>\n",
       "    </tr>\n",
       "    <tr>\n",
       "      <th>2</th>\n",
       "      <td>2</td>\n",
       "      <td>Cody Anderson</td>\n",
       "      <td>25</td>\n",
       "      <td>1441</td>\n",
       "      <td>MLB-AL</td>\n",
       "      <td>Cleveland</td>\n",
       "      <td>19</td>\n",
       "      <td>9</td>\n",
       "      <td>2.0</td>\n",
       "      <td>5.0</td>\n",
       "      <td>...</td>\n",
       "      <td>0.465</td>\n",
       "      <td>0.287</td>\n",
       "      <td>0.248</td>\n",
       "      <td>0.158</td>\n",
       "      <td>0.515</td>\n",
       "      <td>0.327</td>\n",
       "      <td>3.92</td>\n",
       "      <td>0.296</td>\n",
       "      <td>CH</td>\n",
       "      <td>0</td>\n",
       "    </tr>\n",
       "    <tr>\n",
       "      <th>3</th>\n",
       "      <td>3</td>\n",
       "      <td>Tyler Anderson</td>\n",
       "      <td>26</td>\n",
       "      <td>1444</td>\n",
       "      <td>MLB-NL</td>\n",
       "      <td>Colorado</td>\n",
       "      <td>19</td>\n",
       "      <td>19</td>\n",
       "      <td>5.0</td>\n",
       "      <td>6.0</td>\n",
       "      <td>...</td>\n",
       "      <td>0.418</td>\n",
       "      <td>0.346</td>\n",
       "      <td>0.236</td>\n",
       "      <td>0.242</td>\n",
       "      <td>0.476</td>\n",
       "      <td>0.282</td>\n",
       "      <td>3.96</td>\n",
       "      <td>0.291</td>\n",
       "      <td>FB</td>\n",
       "      <td>0</td>\n",
       "    </tr>\n",
       "    <tr>\n",
       "      <th>4</th>\n",
       "      <td>4</td>\n",
       "      <td>Matt Andriese</td>\n",
       "      <td>26</td>\n",
       "      <td>1439</td>\n",
       "      <td>MLB-AL</td>\n",
       "      <td>Tampa Bay</td>\n",
       "      <td>29</td>\n",
       "      <td>19</td>\n",
       "      <td>8.0</td>\n",
       "      <td>8.0</td>\n",
       "      <td>...</td>\n",
       "      <td>0.353</td>\n",
       "      <td>0.358</td>\n",
       "      <td>0.289</td>\n",
       "      <td>0.166</td>\n",
       "      <td>0.491</td>\n",
       "      <td>0.343</td>\n",
       "      <td>3.83</td>\n",
       "      <td>0.287</td>\n",
       "      <td>CH</td>\n",
       "      <td>0</td>\n",
       "    </tr>\n",
       "  </tbody>\n",
       "</table>\n",
       "<p>5 rows × 126 columns</p>\n",
       "</div>"
      ],
      "text/plain": [
       "   Unnamed: 0            Name  Age  #days     Lev          Tm   G  GS    W  \\\n",
       "0           0     Tim Adleman   28   1438  MLB-NL  Cincinnati  13  13  4.0   \n",
       "1           1  Chase Anderson   28   1441  MLB-NL   Milwaukee  31  30  9.0   \n",
       "2           2   Cody Anderson   25   1441  MLB-AL   Cleveland  19   9  2.0   \n",
       "3           3  Tyler Anderson   26   1444  MLB-NL    Colorado  19  19  5.0   \n",
       "4           4   Matt Andriese   26   1439  MLB-AL   Tampa Bay  29  19  8.0   \n",
       "\n",
       "      L  ...  Pull%  Cent%  Oppo%  Soft%   Med%  Hard%  kwERA   TTO%  \\\n",
       "0   4.0  ...  0.442  0.326  0.233  0.140  0.507  0.354   4.61  0.279   \n",
       "1  11.0  ...  0.423  0.298  0.279  0.172  0.462  0.366   4.50  0.311   \n",
       "2   5.0  ...  0.465  0.287  0.248  0.158  0.515  0.327   3.92  0.296   \n",
       "3   6.0  ...  0.418  0.346  0.236  0.242  0.476  0.282   3.96  0.291   \n",
       "4   8.0  ...  0.353  0.358  0.289  0.166  0.491  0.343   3.83  0.287   \n",
       "\n",
       "   Best_Pitch  95mph+  \n",
       "0          FB       0  \n",
       "1          SL       0  \n",
       "2          CH       0  \n",
       "3          FB       0  \n",
       "4          CH       0  \n",
       "\n",
       "[5 rows x 126 columns]"
      ]
     },
     "execution_count": 3,
     "metadata": {},
     "output_type": "execute_result"
    }
   ],
   "source": [
    "df.head()"
   ]
  },
  {
   "cell_type": "code",
   "execution_count": 5,
   "metadata": {},
   "outputs": [],
   "source": [
    "df.drop(axis=1,labels=['Unnamed: 0'],inplace=True)"
   ]
  },
  {
   "cell_type": "code",
   "execution_count": 6,
   "metadata": {},
   "outputs": [
    {
     "data": {
      "text/plain": [
       "Index(['Name', 'Age', '#days', 'Lev', 'Tm', 'G', 'GS', 'W', 'L', 'IP',\n",
       "       ...\n",
       "       'Pull%', 'Cent%', 'Oppo%', 'Soft%', 'Med%', 'Hard%', 'kwERA', 'TTO%',\n",
       "       'Best_Pitch', '95mph+'],\n",
       "      dtype='object', length=125)"
      ]
     },
     "execution_count": 6,
     "metadata": {},
     "output_type": "execute_result"
    }
   ],
   "source": [
    "df.columns"
   ]
  },
  {
   "cell_type": "code",
   "execution_count": 7,
   "metadata": {},
   "outputs": [],
   "source": [
    "for col in df.columns:\n",
    "    if df[col].isna().any()==True: #confirming no null values\n",
    "        print(col)\n",
    "    else:\n",
    "        pass"
   ]
  },
  {
   "cell_type": "code",
   "execution_count": 10,
   "metadata": {},
   "outputs": [
    {
     "data": {
      "text/plain": [
       "SL    398\n",
       "FB    309\n",
       "CH    263\n",
       "CB    228\n",
       "Name: Best_Pitch, dtype: int64"
      ]
     },
     "execution_count": 10,
     "metadata": {},
     "output_type": "execute_result"
    }
   ],
   "source": [
    "df['Best_Pitch'].value_counts(dropna=False)"
   ]
  },
  {
   "cell_type": "markdown",
   "metadata": {},
   "source": [
    "# Feature Engineering"
   ]
  },
  {
   "cell_type": "code",
   "execution_count": 11,
   "metadata": {
    "scrolled": true
   },
   "outputs": [],
   "source": [
    "df['95mph+']=np.where(df['FBv']>=95,1,0) \n",
    "#added feature based on signifcant result from stat test, please \n",
    "#see data cleaning notebook for code"
   ]
  },
  {
   "cell_type": "code",
   "execution_count": 12,
   "metadata": {},
   "outputs": [
    {
     "data": {
      "text/plain": [
       "(1198, 125)"
      ]
     },
     "execution_count": 12,
     "metadata": {},
     "output_type": "execute_result"
    }
   ],
   "source": [
    "df.shape"
   ]
  },
  {
   "cell_type": "code",
   "execution_count": 13,
   "metadata": {},
   "outputs": [
    {
     "data": {
      "text/plain": [
       "0    1086\n",
       "1     112\n",
       "Name: 95mph+, dtype: int64"
      ]
     },
     "execution_count": 13,
     "metadata": {},
     "output_type": "execute_result"
    }
   ],
   "source": [
    "df['95mph+'].value_counts(dropna=False)"
   ]
  },
  {
   "cell_type": "markdown",
   "metadata": {},
   "source": [
    "# Exploratory Data Analysis"
   ]
  },
  {
   "cell_type": "code",
   "execution_count": 14,
   "metadata": {
    "scrolled": true
   },
   "outputs": [
    {
     "data": {
      "text/plain": [
       "['Name',\n",
       " 'Age',\n",
       " '#days',\n",
       " 'Lev',\n",
       " 'Tm',\n",
       " 'G',\n",
       " 'GS',\n",
       " 'W',\n",
       " 'L',\n",
       " 'IP',\n",
       " 'H',\n",
       " 'R',\n",
       " 'ER',\n",
       " 'BB',\n",
       " 'SO',\n",
       " 'HR',\n",
       " 'HBP',\n",
       " 'ERA',\n",
       " 'AB',\n",
       " '2B',\n",
       " '3B',\n",
       " 'IBB',\n",
       " 'GDP',\n",
       " 'SF',\n",
       " 'SB',\n",
       " 'CS',\n",
       " 'PO',\n",
       " 'BF',\n",
       " 'Pit',\n",
       " 'Str',\n",
       " 'StL',\n",
       " 'StS',\n",
       " 'LD',\n",
       " 'PU',\n",
       " 'WHIP',\n",
       " 'BAbip',\n",
       " 'SO9',\n",
       " 'Season',\n",
       " 'WAR',\n",
       " 'CG',\n",
       " 'ShO',\n",
       " 'BS',\n",
       " 'TBF',\n",
       " 'WP',\n",
       " 'BK',\n",
       " 'GB',\n",
       " 'FB',\n",
       " 'IFFB',\n",
       " 'Balls',\n",
       " 'Strikes',\n",
       " 'Pitches',\n",
       " 'RS',\n",
       " 'IFH',\n",
       " 'BU',\n",
       " 'BUH',\n",
       " 'AVG',\n",
       " 'BABIP',\n",
       " 'LOB%',\n",
       " 'FIP',\n",
       " 'LD%',\n",
       " 'GB%',\n",
       " 'IFFB%',\n",
       " 'IFH%',\n",
       " 'BUH%',\n",
       " 'RAR',\n",
       " 'tERA',\n",
       " 'xFIP',\n",
       " 'WPA',\n",
       " '-WPA',\n",
       " '+WPA',\n",
       " 'RE24',\n",
       " 'REW',\n",
       " 'pLI',\n",
       " 'inLI',\n",
       " 'gmLI',\n",
       " 'exLI',\n",
       " 'Pulls',\n",
       " 'Clutch',\n",
       " 'FB%',\n",
       " 'FBv',\n",
       " 'SL%',\n",
       " 'SLv',\n",
       " 'CB%',\n",
       " 'CBv',\n",
       " 'CH%',\n",
       " 'CHv',\n",
       " 'wFB',\n",
       " 'wSL',\n",
       " 'wCB',\n",
       " 'wCH',\n",
       " 'O-Swing%',\n",
       " 'Z-Swing%',\n",
       " 'Swing%',\n",
       " 'O-Contact%',\n",
       " 'Z-Contact%',\n",
       " 'Contact%',\n",
       " 'Zone%',\n",
       " 'F-Strike%',\n",
       " 'SwStr%',\n",
       " 'HLD',\n",
       " 'SD',\n",
       " 'MD',\n",
       " 'ERA-',\n",
       " 'FIP-',\n",
       " 'xFIP-',\n",
       " 'K%',\n",
       " 'BB%',\n",
       " 'SIERA',\n",
       " 'E-F',\n",
       " 'Pace',\n",
       " 'RA9-WAR',\n",
       " 'BIP-Wins',\n",
       " 'LOB-Wins',\n",
       " 'FDP-Wins',\n",
       " 'K-BB%',\n",
       " 'Pull%',\n",
       " 'Cent%',\n",
       " 'Oppo%',\n",
       " 'Soft%',\n",
       " 'Med%',\n",
       " 'Hard%',\n",
       " 'kwERA',\n",
       " 'TTO%',\n",
       " 'Best_Pitch',\n",
       " '95mph+']"
      ]
     },
     "execution_count": 14,
     "metadata": {},
     "output_type": "execute_result"
    }
   ],
   "source": [
    "df.columns.tolist()"
   ]
  },
  {
   "cell_type": "code",
   "execution_count": 15,
   "metadata": {},
   "outputs": [
    {
     "data": {
      "text/plain": [
       "<matplotlib.axes._subplots.AxesSubplot at 0x7f94281766a0>"
      ]
     },
     "execution_count": 15,
     "metadata": {},
     "output_type": "execute_result"
    },
    {
     "data": {
      "image/png": "[encoded data removed]",
      "text/plain": [
       "<Figure size 432x288 with 1 Axes>"
      ]
     },
     "metadata": {
      "needs_background": "light"
     },
     "output_type": "display_data"
    }
   ],
   "source": [
    "df['Soft%'].plot(kind='hist')"
   ]
  },
  {
   "cell_type": "code",
   "execution_count": 16,
   "metadata": {},
   "outputs": [
    {
     "data": {
      "text/plain": [
       "count    1198.000000\n",
       "mean        0.180492\n",
       "std         0.027353\n",
       "min         0.092000\n",
       "25%         0.162000\n",
       "50%         0.180000\n",
       "75%         0.198000\n",
       "max         0.279000\n",
       "Name: Soft%, dtype: float64"
      ]
     },
     "execution_count": 16,
     "metadata": {},
     "output_type": "execute_result"
    }
   ],
   "source": [
    "df['Soft%'].describe()"
   ]
  },
  {
   "cell_type": "code",
   "execution_count": 18,
   "metadata": {
    "scrolled": true
   },
   "outputs": [
    {
     "data": {
      "text/plain": [
       "count    1198.000000\n",
       "mean        0.304422\n",
       "std         0.029950\n",
       "min         0.210000\n",
       "25%         0.284000\n",
       "50%         0.304000\n",
       "75%         0.323000\n",
       "max         0.396000\n",
       "Name: O-Swing%, dtype: float64"
      ]
     },
     "execution_count": 18,
     "metadata": {},
     "output_type": "execute_result"
    }
   ],
   "source": [
    "df['O-Swing%'].describe()"
   ]
  },
  {
   "cell_type": "code",
   "execution_count": 19,
   "metadata": {},
   "outputs": [
    {
     "data": {
      "text/plain": [
       "<matplotlib.axes._subplots.AxesSubplot at 0x7f93e8278a60>"
      ]
     },
     "execution_count": 19,
     "metadata": {},
     "output_type": "execute_result"
    },
    {
     "data": {
      "image/png": "[encoded data removed]",
      "text/plain": [
       "<Figure size 432x288 with 1 Axes>"
      ]
     },
     "metadata": {
      "needs_background": "light"
     },
     "output_type": "display_data"
    }
   ],
   "source": [
    "df['O-Swing%'].plot(kind='hist')"
   ]
  },
  {
   "cell_type": "code",
   "execution_count": 20,
   "metadata": {},
   "outputs": [
    {
     "data": {
      "text/plain": [
       "0.3643129349886812"
      ]
     },
     "execution_count": 20,
     "metadata": {},
     "output_type": "execute_result"
    }
   ],
   "source": [
    "df.SO.corr(df['O-Swing%'])"
   ]
  },
  {
   "cell_type": "code",
   "execution_count": 30,
   "metadata": {
    "scrolled": false
   },
   "outputs": [
    {
     "data": {
      "image/png": "[encoded data removed]",
      "text/plain": [
       "<Figure size 1080x720 with 1 Axes>"
      ]
     },
     "metadata": {
      "needs_background": "light"
     },
     "output_type": "display_data"
    }
   ],
   "source": [
    "High_O=df.loc[(df['O-Swing%']>=.325),'SO'].mean()\n",
    "Low_O=df['SO'].mean()\n",
    "fig,ax=plt.subplots(figsize=(15,10))\n",
    "sns.barplot(x=[' All Starting Pitchers Population (2014-2019)','Elite O-Swing% Population'],y=[Low_O,High_O],ax=ax)\n",
    "ax.set_ylabel('Avg Strikeouts',fontsize=15)\n",
    "ax.set_title('Average Strikeouts of All Starting Pitchers vs Elite O-Swing% Pitchers',fontsize=15)\n",
    "ax.tick_params(axis='x',which='major',labelsize=15)"
   ]
  },
  {
   "cell_type": "markdown",
   "metadata": {},
   "source": [
    "# Statistical Test\n",
    "## 1 Sample Population mean test (two tail z-test)\n",
    "### The goal of this test is to determine whether there is a statistically significant difference between average strikeouts of Pitcher who get swings outside the strike zone at an elite ratio compared to the average strikeouts of the general starting pitcher population .  Assuming alpha=.05 meaning .025 for each tail."
   ]
  },
  {
   "cell_type": "markdown",
   "metadata": {},
   "source": [
    "## Hypothesis\n",
    "## Ho u_elite=u_gen_pop\n",
    "## Ha u_elite≠u_gen_pop"
   ]
  },
  {
   "cell_type": "code",
   "execution_count": 38,
   "metadata": {},
   "outputs": [
    {
     "name": "stdout",
     "output_type": "stream",
     "text": [
      "118.05258764607679\n",
      "54.9237162708827\n"
     ]
    }
   ],
   "source": [
    "u_gen_pop=df['SO'].mean()\n",
    "print(u_gen_pop)\n",
    "std_gen_pop=df['SO'].std()\n",
    "print(std_gen_pop)"
   ]
  },
  {
   "cell_type": "code",
   "execution_count": 37,
   "metadata": {},
   "outputs": [
    {
     "name": "stdout",
     "output_type": "stream",
     "text": [
      "281\n"
     ]
    },
    {
     "data": {
      "text/plain": [
       "145.25978647686833"
      ]
     },
     "execution_count": 37,
     "metadata": {},
     "output_type": "execute_result"
    }
   ],
   "source": [
    "len_elite_sample=len(df.loc[(df['O-Swing%']>=.325),'SO'])\n",
    "print(len_elite_sample)\n",
    "u_elite=df.loc[(df['O-Swing%']>=.325),'SO'].mean()\n",
    "u_elite"
   ]
  },
  {
   "cell_type": "code",
   "execution_count": 40,
   "metadata": {},
   "outputs": [
    {
     "data": {
      "text/plain": [
       "8.303803727549939"
      ]
     },
     "execution_count": 40,
     "metadata": {},
     "output_type": "execute_result"
    }
   ],
   "source": [
    "num=u_elite-u_gen_pop\n",
    "denom=std_gen_pop/np.sqrt(len_elite_sample)\n",
    "Test_stat=num/denom\n",
    "Test_stat"
   ]
  },
  {
   "cell_type": "code",
   "execution_count": 113,
   "metadata": {},
   "outputs": [
    {
     "data": {
      "text/plain": [
       "0.0"
      ]
     },
     "execution_count": 113,
     "metadata": {},
     "output_type": "execute_result"
    }
   ],
   "source": [
    "P_val=(1-scs.norm.cdf(Test_stat))/2\n",
    "P_val                   #will give area at tails"
   ]
  },
  {
   "cell_type": "markdown",
   "metadata": {},
   "source": [
    "# The calculated p value is approximatly  0 (python estimated to zero since value is very small)which is much smaller then our threshold of .025 in each tail. Thus, we can reject the null hypothesis and therby show there is a significant differnce between Elite O-Swing % Pitchers and the general starting pitcher population."
   ]
  },
  {
   "cell_type": "code",
   "execution_count": 43,
   "metadata": {},
   "outputs": [],
   "source": [
    "df['O-Swing%_Elite']=np.where(df['O-Swing%']>=.325,1,0)"
   ]
  },
  {
   "cell_type": "code",
   "execution_count": 44,
   "metadata": {},
   "outputs": [
    {
     "data": {
      "text/plain": [
       "0    917\n",
       "1    281\n",
       "Name: O-Swing%_Elite, dtype: int64"
      ]
     },
     "execution_count": 44,
     "metadata": {},
     "output_type": "execute_result"
    }
   ],
   "source": [
    "df['O-Swing%_Elite'].value_counts(dropna=False)"
   ]
  },
  {
   "cell_type": "code",
   "execution_count": 45,
   "metadata": {},
   "outputs": [
    {
     "data": {
      "text/plain": [
       "(1198, 126)"
      ]
     },
     "execution_count": 45,
     "metadata": {},
     "output_type": "execute_result"
    }
   ],
   "source": [
    "df.shape"
   ]
  },
  {
   "cell_type": "code",
   "execution_count": 46,
   "metadata": {},
   "outputs": [
    {
     "data": {
      "text/plain": [
       "Name               object\n",
       "Age                 int64\n",
       "#days               int64\n",
       "Lev                object\n",
       "Tm                 object\n",
       "                   ...   \n",
       "kwERA             float64\n",
       "TTO%              float64\n",
       "Best_Pitch         object\n",
       "95mph+              int64\n",
       "O-Swing%_Elite      int64\n",
       "Length: 126, dtype: object"
      ]
     },
     "execution_count": 46,
     "metadata": {},
     "output_type": "execute_result"
    }
   ],
   "source": [
    "df.dtypes"
   ]
  },
  {
   "cell_type": "markdown",
   "metadata": {},
   "source": [
    "# Feature Elimination"
   ]
  },
  {
   "cell_type": "code",
   "execution_count": 72,
   "metadata": {},
   "outputs": [],
   "source": [
    "bad_feats=['kwERA','SIERA',\"WPA\",\"+WPA\",'exLI','inLI',\"R\",'SF',\"CS\",'BF','BS','Strikes','RS','BU','IFFB%','BUH%','tERA','REW','Clutch','HLD','MD','BIP-Wins','FDP-Wins','#days','W','L','WP','StS','StL','TBF']"
   ]
  },
  {
   "cell_type": "code",
   "execution_count": 73,
   "metadata": {},
   "outputs": [
    {
     "data": {
      "text/plain": [
       "30"
      ]
     },
     "execution_count": 73,
     "metadata": {},
     "output_type": "execute_result"
    }
   ],
   "source": [
    "len(bad_feats)"
   ]
  },
  {
   "cell_type": "code",
   "execution_count": 74,
   "metadata": {},
   "outputs": [],
   "source": [
    "df.drop(axis=1,labels=bad_feats,inplace=True)"
   ]
  },
  {
   "cell_type": "code",
   "execution_count": 75,
   "metadata": {},
   "outputs": [
    {
     "data": {
      "text/plain": [
       "(1198, 96)"
      ]
     },
     "execution_count": 75,
     "metadata": {},
     "output_type": "execute_result"
    }
   ],
   "source": [
    "df.shape"
   ]
  },
  {
   "cell_type": "code",
   "execution_count": 90,
   "metadata": {},
   "outputs": [],
   "source": [
    "df.drop(axis=1,labels=more_bad_feats,inplace=True)"
   ]
  },
  {
   "cell_type": "code",
   "execution_count": 92,
   "metadata": {},
   "outputs": [
    {
     "data": {
      "text/plain": [
       "(1198, 76)"
      ]
     },
     "execution_count": 92,
     "metadata": {},
     "output_type": "execute_result"
    }
   ],
   "source": [
    "df.shape"
   ]
  },
  {
   "cell_type": "code",
   "execution_count": 95,
   "metadata": {},
   "outputs": [],
   "source": [
    "even_more_bad_feats=['FIP-','xFIP-','E-F','Pace','RA9-WAR','LOB-Wins','K-BB%','Pull%','Cent%','Oppo%','TTO%','SD','K%','BB%','ERA-','PO','SB']"
   ]
  },
  {
   "cell_type": "code",
   "execution_count": 96,
   "metadata": {},
   "outputs": [],
   "source": [
    "df.drop(axis=1,labels=even_more_bad_feats,inplace=True)"
   ]
  },
  {
   "cell_type": "code",
   "execution_count": 97,
   "metadata": {},
   "outputs": [
    {
     "data": {
      "text/plain": [
       "(1198, 59)"
      ]
     },
     "execution_count": 97,
     "metadata": {},
     "output_type": "execute_result"
    }
   ],
   "source": [
    "df.shape"
   ]
  },
  {
   "cell_type": "code",
   "execution_count": 98,
   "metadata": {},
   "outputs": [
    {
     "data": {
      "image/png": "[encoded data removed]",
      "text/plain": [
       "<Figure size 2880x1440 with 2 Axes>"
      ]
     },
     "metadata": {
      "needs_background": "light"
     },
     "output_type": "display_data"
    }
   ],
   "source": [
    "fig, ax = plt.subplots(figsize=(40, 20))\n",
    "mask = np.zeros_like(df.corr()) #heat map of correlations\n",
    "mask[np.triu_indices_from(mask)] = True\n",
    "with sns.axes_style(\"white\"):\n",
    "    ax = sns.heatmap(df.corr(), mask=mask, square=True)"
   ]
  },
  {
   "cell_type": "code",
   "execution_count": 104,
   "metadata": {},
   "outputs": [],
   "source": [
    "final_cuts=['GDP','WHIP','IFH','ER',]"
   ]
  },
  {
   "cell_type": "code",
   "execution_count": 105,
   "metadata": {},
   "outputs": [],
   "source": [
    "df.drop(axis=1,labels=final_cuts,inplace=True)"
   ]
  },
  {
   "cell_type": "code",
   "execution_count": 106,
   "metadata": {},
   "outputs": [
    {
     "data": {
      "text/plain": [
       "(1198, 55)"
      ]
     },
     "execution_count": 106,
     "metadata": {},
     "output_type": "execute_result"
    }
   ],
   "source": [
    "df.shape"
   ]
  },
  {
   "cell_type": "code",
   "execution_count": 107,
   "metadata": {},
   "outputs": [],
   "source": [
    "df.to_csv('Cleanpitcherdataset.csv')"
   ]
  },
  {
   "cell_type": "code",
   "execution_count": 110,
   "metadata": {},
   "outputs": [
    {
     "data": {
      "text/plain": [
       "Name              False\n",
       "Age               False\n",
       "Lev               False\n",
       "Tm                False\n",
       "GS                False\n",
       "IP                False\n",
       "H                 False\n",
       "BB                False\n",
       "SO                False\n",
       "HR                False\n",
       "HBP               False\n",
       "ERA               False\n",
       "2B                False\n",
       "3B                False\n",
       "Pit               False\n",
       "Str               False\n",
       "LD                False\n",
       "PU                False\n",
       "BAbip             False\n",
       "Season            False\n",
       "WAR               False\n",
       "Balls             False\n",
       "Pitches           False\n",
       "BABIP             False\n",
       "LOB%              False\n",
       "FIP               False\n",
       "LD%               False\n",
       "GB%               False\n",
       "FB%               False\n",
       "FBv               False\n",
       "SL%               False\n",
       "SLv               False\n",
       "CB%               False\n",
       "CBv               False\n",
       "CH%               False\n",
       "CHv               False\n",
       "wFB               False\n",
       "wSL               False\n",
       "wCB               False\n",
       "wCH               False\n",
       "O-Swing%          False\n",
       "Z-Swing%          False\n",
       "Swing%            False\n",
       "O-Contact%        False\n",
       "Z-Contact%        False\n",
       "Contact%          False\n",
       "Zone%             False\n",
       "F-Strike%         False\n",
       "SwStr%            False\n",
       "Soft%             False\n",
       "Med%              False\n",
       "Hard%             False\n",
       "Best_Pitch        False\n",
       "95mph+            False\n",
       "O-Swing%_Elite    False\n",
       "dtype: bool"
      ]
     },
     "execution_count": 110,
     "metadata": {},
     "output_type": "execute_result"
    }
   ],
   "source": [
    "df.isna().any()"
   ]
  },
  {
   "cell_type": "code",
   "execution_count": 109,
   "metadata": {
    "scrolled": true
   },
   "outputs": [
    {
     "data": {
      "text/plain": [
       "Name               object\n",
       "Age                 int64\n",
       "Lev                object\n",
       "Tm                 object\n",
       "GS                  int64\n",
       "IP                float64\n",
       "H                   int64\n",
       "BB                  int64\n",
       "SO                  int64\n",
       "HR                  int64\n",
       "HBP                 int64\n",
       "ERA               float64\n",
       "2B                  int64\n",
       "3B                  int64\n",
       "Pit                 int64\n",
       "Str               float64\n",
       "LD                float64\n",
       "PU                float64\n",
       "BAbip             float64\n",
       "Season              int64\n",
       "WAR               float64\n",
       "Balls             float64\n",
       "Pitches           float64\n",
       "BABIP             float64\n",
       "LOB%              float64\n",
       "FIP               float64\n",
       "LD%               float64\n",
       "GB%               float64\n",
       "FB%               float64\n",
       "FBv               float64\n",
       "SL%               float64\n",
       "SLv               float64\n",
       "CB%               float64\n",
       "CBv               float64\n",
       "CH%               float64\n",
       "CHv               float64\n",
       "wFB               float64\n",
       "wSL               float64\n",
       "wCB               float64\n",
       "wCH               float64\n",
       "O-Swing%          float64\n",
       "Z-Swing%          float64\n",
       "Swing%            float64\n",
       "O-Contact%        float64\n",
       "Z-Contact%        float64\n",
       "Contact%          float64\n",
       "Zone%             float64\n",
       "F-Strike%         float64\n",
       "SwStr%            float64\n",
       "Soft%             float64\n",
       "Med%              float64\n",
       "Hard%             float64\n",
       "Best_Pitch         object\n",
       "95mph+              int64\n",
       "O-Swing%_Elite      int64\n",
       "dtype: object"
      ]
     },
     "execution_count": 109,
     "metadata": {},
     "output_type": "execute_result"
    }
   ],
   "source": [
    "df.dtypes"
   ]
  },
  {
   "cell_type": "code",
   "execution_count": 114,
   "metadata": {},
   "outputs": [
    {
     "data": {
      "text/plain": [
       "(1198, 55)"
      ]
     },
     "execution_count": 114,
     "metadata": {},
     "output_type": "execute_result"
    }
   ],
   "source": [
    "df.shape"
   ]
  },
  {
   "cell_type": "code",
   "execution_count": 115,
   "metadata": {},
   "outputs": [],
   "source": [
    "df['FStrike_elite'] = np.where(df['F-Strike%'] > .635,1,0)\n",
    "df['Fstrikeelite_95mph+'] = df['FStrike_elite'] * df['95mph+']"
   ]
  },
  {
   "cell_type": "code",
   "execution_count": 117,
   "metadata": {
    "scrolled": true
   },
   "outputs": [
    {
     "data": {
      "text/plain": [
       "0    1165\n",
       "1      33\n",
       "Name: Fstrikeelite_95mph+, dtype: int64"
      ]
     },
     "execution_count": 117,
     "metadata": {},
     "output_type": "execute_result"
    }
   ],
   "source": [
    "df['Fstrikeelite_95mph+'].value_counts(dropna=False)"
   ]
  },
  {
   "cell_type": "code",
   "execution_count": 119,
   "metadata": {},
   "outputs": [
    {
     "data": {
      "text/plain": [
       "(1198, 57)"
      ]
     },
     "execution_count": 119,
     "metadata": {},
     "output_type": "execute_result"
    }
   ],
   "source": [
    "df.shape"
   ]
  },
  {
   "cell_type": "code",
   "execution_count": 131,
   "metadata": {},
   "outputs": [],
   "source": [
    "df = pd.concat([df, pd.get_dummies(df['Best_Pitch'],drop_first=True)], 1)"
   ]
  },
  {
   "cell_type": "code",
   "execution_count": 132,
   "metadata": {},
   "outputs": [
    {
     "data": {
      "text/plain": [
       "(1198, 60)"
      ]
     },
     "execution_count": 132,
     "metadata": {},
     "output_type": "execute_result"
    }
   ],
   "source": [
    "df.shape"
   ]
  },
  {
   "cell_type": "code",
   "execution_count": 133,
   "metadata": {},
   "outputs": [],
   "source": [
    "df.to_csv('Cleanpitcherdataset.csv')"
   ]
  }
 ],
 "metadata": {
  "kernelspec": {
   "display_name": "Python 3",
   "language": "python",
   "name": "python3"
  },
  "language_info": {
   "codemirror_mode": {
    "name": "ipython",
    "version": 3
   },
   "file_extension": ".py",
   "mimetype": "text/x-python",
   "name": "python",
   "nbconvert_exporter": "python",
   "pygments_lexer": "ipython3",
   "version": "3.8.3"
  }
 },
 "nbformat": 4,
 "nbformat_minor": 4
}
