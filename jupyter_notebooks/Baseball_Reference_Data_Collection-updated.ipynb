{
 "cells": [
  {
   "cell_type": "code",
   "execution_count": 1,
   "metadata": {},
   "outputs": [],
   "source": [
    "#importing necessary libraries\n",
    "\n",
    "import numpy as np\n",
    "import pandas as pd "
   ]
  },
  {
   "cell_type": "code",
   "execution_count": 2,
   "metadata": {},
   "outputs": [],
   "source": [
    "#using pybaseball to get season stats for pitcher\n",
    "\n",
    "from pybaseball import pitching_stats_bref "
   ]
  },
  {
   "cell_type": "code",
   "execution_count": 3,
   "metadata": {},
   "outputs": [],
   "source": [
    "#making separate dataframes that pertain to a season's worth of pitching statistics\n",
    "\n",
    "pitching_data_2014=pitching_stats_bref(2014)\n",
    "pitching_data_2015=pitching_stats_bref(2015)\n",
    "pitching_data_2016=pitching_stats_bref(2016)\n",
    "pitching_data_2017=pitching_stats_bref(2017)\n",
    "pitching_data_2018=pitching_stats_bref(2018)\n",
    "pitching_data_2019=pitching_stats_bref(2019)"
   ]
  },
  {
   "cell_type": "code",
   "execution_count": 4,
   "metadata": {},
   "outputs": [],
   "source": [
    "#adding season column to distinguish between years\n",
    "\n",
    "pitching_data_2014['Season']=2014\n",
    "pitching_data_2015['Season']=2015\n",
    "pitching_data_2016['Season']=2016\n",
    "pitching_data_2017['Season']=2017\n",
    "pitching_data_2018['Season']=2018 \n",
    "pitching_data_2019['Season']=2019"
   ]
  },
  {
   "cell_type": "code",
   "execution_count": 5,
   "metadata": {},
   "outputs": [],
   "source": [
    "#joining the separate dataframes\n",
    "\n",
    "df=pd.concat([pitching_data_2014,pitching_data_2015,pitching_data_2016,pitching_data_2017,pitching_data_2018,pitching_data_2019])"
   ]
  },
  {
   "cell_type": "code",
   "execution_count": 6,
   "metadata": {},
   "outputs": [],
   "source": [
    "#establishing minimums to count as a Starting Pitcher\n",
    "\n",
    "df=df.loc[(df['IP']>50) & (df['GS']>4)] "
   ]
  },
  {
   "cell_type": "code",
   "execution_count": 7,
   "metadata": {},
   "outputs": [
    {
     "data": {
      "text/plain": [
       "(1198, 41)"
      ]
     },
     "execution_count": 7,
     "metadata": {},
     "output_type": "execute_result"
    }
   ],
   "source": [
    "#dataframe with all Relief Pitchers removed\n",
    "\n",
    "df.shape "
   ]
  },
  {
   "cell_type": "code",
   "execution_count": 8,
   "metadata": {},
   "outputs": [
    {
     "data": {
      "text/plain": [
       "array([2014, 2015, 2016, 2017, 2018, 2019])"
      ]
     },
     "execution_count": 8,
     "metadata": {},
     "output_type": "execute_result"
    }
   ],
   "source": [
    "#checking to make sure all 6 seasons are there\n",
    "\n",
    "df.Season.unique()"
   ]
  },
  {
   "cell_type": "code",
   "execution_count": 9,
   "metadata": {},
   "outputs": [],
   "source": [
    "#saving final df to a csv\n",
    "\n",
    "df.to_csv('Pitching_season_data_2014_to_2019.csv') "
   ]
  }
 ],
 "metadata": {
  "kernelspec": {
   "display_name": "Python 3",
   "language": "python",
   "name": "python3"
  },
  "language_info": {
   "codemirror_mode": {
    "name": "ipython",
    "version": 3
   },
   "file_extension": ".py",
   "mimetype": "text/x-python",
   "name": "python",
   "nbconvert_exporter": "python",
   "pygments_lexer": "ipython3",
   "version": "3.7.6"
  }
 },
 "nbformat": 4,
 "nbformat_minor": 4
}
