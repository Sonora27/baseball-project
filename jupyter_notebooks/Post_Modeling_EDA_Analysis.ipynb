{
 "cells": [
  {
   "cell_type": "markdown",
   "metadata": {},
   "source": [
    "# Post Modeling EDA and Analysis\n",
    "## The purpose of this notebook is to look at insights gained into the modeling process and explore our dataset with these new insights to acheve a deeper understanding of our model and it's features."
   ]
  },
  {
   "cell_type": "code",
   "execution_count": 1,
   "metadata": {},
   "outputs": [],
   "source": [
    "#Importing necessary libraries\n",
    "\n",
    "import pickle  \n",
    "import pandas as pd\n",
    "pd.set_option('display.max_columns', 300)\n",
    "pd.set_option('display.max_rows', 200)\n",
    "\n",
    "import numpy as np\n",
    "from matplotlib import pyplot as plt\n",
    "from sklearn import linear_model\n",
    "from sklearn.linear_model import LinearRegression\n",
    "from sklearn.model_selection import train_test_split\n",
    "from sklearn import metrics\n",
    "from sklearn.preprocessing import PolynomialFeatures\n",
    "from sklearn.preprocessing import StandardScaler\n",
    "import seaborn as sns\n",
    "sns.set(style=\"whitegrid\")"
   ]
  },
  {
   "cell_type": "code",
   "execution_count": 2,
   "metadata": {},
   "outputs": [],
   "source": [
    "df=pd.read_csv('Cleanpitcherdataset.csv')"
   ]
  },
  {
   "cell_type": "code",
   "execution_count": 3,
   "metadata": {},
   "outputs": [
    {
     "data": {
      "text/plain": [
       "(1198, 61)"
      ]
     },
     "execution_count": 3,
     "metadata": {},
     "output_type": "execute_result"
    }
   ],
   "source": [
    "df.shape"
   ]
  },
  {
   "cell_type": "code",
   "execution_count": 5,
   "metadata": {},
   "outputs": [],
   "source": [
    "#Dropping unnecessary column\n",
    "\n",
    "df.drop(axis=1,labels='Unnamed: 0',inplace=True)"
   ]
  },
  {
   "cell_type": "code",
   "execution_count": 14,
   "metadata": {},
   "outputs": [
    {
     "data": {
      "text/plain": [
       "count    1198.000000\n",
       "mean        0.328373\n",
       "std         0.050441\n",
       "min         0.197000\n",
       "25%         0.291250\n",
       "50%         0.322000\n",
       "75%         0.362000\n",
       "max         0.480000\n",
       "Name: Hard%, dtype: float64"
      ]
     },
     "execution_count": 14,
     "metadata": {},
     "output_type": "execute_result"
    }
   ],
   "source": [
    "\n",
    "df['Hard%'].describe()"
   ]
  },
  {
   "cell_type": "code",
   "execution_count": 19,
   "metadata": {},
   "outputs": [
    {
     "data": {
      "text/plain": [
       "count    1198.000000\n",
       "mean       17.252087\n",
       "std         7.324321\n",
       "min         1.000000\n",
       "25%        12.000000\n",
       "50%        17.000000\n",
       "75%        23.000000\n",
       "max        41.000000\n",
       "Name: HR, dtype: float64"
      ]
     },
     "execution_count": 19,
     "metadata": {},
     "output_type": "execute_result"
    }
   ],
   "source": [
    "df['HR'].describe()"
   ]
  },
  {
   "cell_type": "code",
   "execution_count": 24,
   "metadata": {},
   "outputs": [
    {
     "data": {
      "text/plain": [
       "count    1198.000000\n",
       "mean      133.754090\n",
       "std        49.180703\n",
       "min        50.200000\n",
       "25%        88.200000\n",
       "50%       134.050000\n",
       "75%       176.000000\n",
       "max       248.100000\n",
       "Name: IP, dtype: float64"
      ]
     },
     "execution_count": 24,
     "metadata": {},
     "output_type": "execute_result"
    }
   ],
   "source": [
    "df['IP'].describe()"
   ]
  },
  {
   "cell_type": "code",
   "execution_count": 20,
   "metadata": {},
   "outputs": [
    {
     "data": {
      "text/plain": [
       "318"
      ]
     },
     "execution_count": 20,
     "metadata": {},
     "output_type": "execute_result"
    }
   ],
   "source": [
    "len(df.loc[(df['HR']>17) & (df['Hard%']>.322),['Name','ERA','FIP','SO','Hard%','HR']])"
   ]
  },
  {
   "cell_type": "code",
   "execution_count": 36,
   "metadata": {},
   "outputs": [],
   "source": [
    "y1=df.loc[(df['HR']>17) & (df['Hard%']>.322) & (df['FBv']>95),['SO']].mean()"
   ]
  },
  {
   "cell_type": "code",
   "execution_count": 37,
   "metadata": {},
   "outputs": [],
   "source": [
    "y=df.loc[(df['HR']>17) & (df['Hard%']>.322) & (df['FBv']<95),['SO']].mean()"
   ]
  },
  {
   "cell_type": "code",
   "execution_count": 120,
   "metadata": {
    "scrolled": true
   },
   "outputs": [
    {
     "data": {
      "image/png": "[encoded data removed]",
      "text/plain": [
       "<Figure size 720x720 with 1 Axes>"
      ]
     },
     "metadata": {},
     "output_type": "display_data"
    }
   ],
   "source": [
    "#Creating plot to see how fastball velocity impacts strikeouts for pitchers that are home run prone\n",
    "\n",
    "fig,ax=plt.subplots(figsize=(10,10))\n",
    "sns.barplot(x=['Soft Tosser','Flamethrower'],y=[y,y1],palette='Greens_d',ax=ax)\n",
    "ax.set_xlabel('Homer-prone Starting Pitchers')\n",
    "ax.set_ylabel('Average Strikeouts (Season)')\n",
    "ax.set_title('How Fastball Velocity Impacts SO for Homer-prone SP')\n",
    "fig.savefig('Impact of FB velo on SO for Homerprone Pitchers.png')"
   ]
  },
  {
   "cell_type": "markdown",
   "metadata": {},
   "source": [
    "## The above graph clearly demonstrates that being a flamethrowing pitcher still leads to far more strikeouts than being a soft-tosser even when the pitchers are homer-prone. In other words, being homer-prone should an exclude a pitcher from consideration by a general manager."
   ]
  },
  {
   "cell_type": "code",
   "execution_count": 48,
   "metadata": {},
   "outputs": [
    {
     "data": {
      "text/plain": [
       "count    1198.000000\n",
       "mean       42.667780\n",
       "std        16.839152\n",
       "min         6.000000\n",
       "25%        30.000000\n",
       "50%        42.000000\n",
       "75%        54.000000\n",
       "max        96.000000\n",
       "Name: BB, dtype: float64"
      ]
     },
     "execution_count": 48,
     "metadata": {},
     "output_type": "execute_result"
    }
   ],
   "source": [
    "df['BB'].describe()"
   ]
  },
  {
   "cell_type": "code",
   "execution_count": 49,
   "metadata": {},
   "outputs": [
    {
     "data": {
      "text/plain": [
       "count    1198.000000\n",
       "mean      786.911519\n",
       "std       269.942846\n",
       "min       246.000000\n",
       "25%       546.250000\n",
       "50%       806.000000\n",
       "75%      1011.000000\n",
       "max      1369.000000\n",
       "Name: Balls, dtype: float64"
      ]
     },
     "execution_count": 49,
     "metadata": {},
     "output_type": "execute_result"
    }
   ],
   "source": [
    "df['Balls'].describe()"
   ]
  },
  {
   "cell_type": "code",
   "execution_count": 60,
   "metadata": {},
   "outputs": [],
   "source": [
    "df['B/P_Ratio']=df['Balls']/df['Pitches']"
   ]
  },
  {
   "cell_type": "code",
   "execution_count": 62,
   "metadata": {},
   "outputs": [
    {
     "data": {
      "text/plain": [
       "count    1198.000000\n",
       "mean        0.361804\n",
       "std         0.023134\n",
       "min         0.269862\n",
       "25%         0.347162\n",
       "50%         0.361714\n",
       "75%         0.376432\n",
       "max         0.444103\n",
       "Name: B/P_Ratio, dtype: float64"
      ]
     },
     "execution_count": 62,
     "metadata": {},
     "output_type": "execute_result"
    }
   ],
   "source": [
    "df['B/P_Ratio'].describe()"
   ]
  },
  {
   "cell_type": "code",
   "execution_count": 114,
   "metadata": {},
   "outputs": [],
   "source": [
    "y3=df.loc[(df['B/P_Ratio']<.347) & (df['IP']>134) & (df['BB']>42),'SO'].mean()"
   ]
  },
  {
   "cell_type": "code",
   "execution_count": 115,
   "metadata": {},
   "outputs": [],
   "source": [
    "y2=df.loc[(df['B/P_Ratio']>=.347) & (df['IP']>134)&(df['BB']>42),'SO'].mean()"
   ]
  },
  {
   "cell_type": "code",
   "execution_count": 124,
   "metadata": {},
   "outputs": [
    {
     "data": {
      "image/png": "[encoded data removed]",
      "text/plain": [
       "<Figure size 720x720 with 1 Axes>"
      ]
     },
     "metadata": {},
     "output_type": "display_data"
    }
   ],
   "source": [
    "#Creating plot to see how pitch efficiency affects strikeouts for a pitcher\n",
    "\n",
    "fig,ax=plt.subplots(figsize=(10,10))\n",
    "sns.barplot(x=['Non-Elite Starting Pitchers','Starting Pitchers with Elite Efficency'],y=[y2,y3],palette='Reds_d',ax=ax)\n",
    "ax.set_ylabel('Average Strikeouts (Season)',fontsize=10)\n",
    "ax.set_title('How Pitch Efficency Affects Pitchers Strikeouts',fontsize=10)\n",
    "fig.savefig('Impact of Pitch efficency on SO for Starting Pitchers.png')"
   ]
  },
  {
   "cell_type": "code",
   "execution_count": 72,
   "metadata": {},
   "outputs": [],
   "source": [
    "df['IP/GS']=df['IP']/df['GS']"
   ]
  },
  {
   "cell_type": "code",
   "execution_count": 89,
   "metadata": {},
   "outputs": [
    {
     "data": {
      "text/plain": [
       "count    1090.000000\n",
       "mean        5.860206\n",
       "std         0.562430\n",
       "min         2.279310\n",
       "25%         5.487545\n",
       "50%         5.846514\n",
       "75%         6.215630\n",
       "max         7.310000\n",
       "Name: IP/GS, dtype: float64"
      ]
     },
     "execution_count": 89,
     "metadata": {},
     "output_type": "execute_result"
    }
   ],
   "source": [
    "df['IP/GS'].describe()"
   ]
  },
  {
   "cell_type": "code",
   "execution_count": 87,
   "metadata": {
    "scrolled": true
   },
   "outputs": [],
   "source": [
    "#Statistic is off due to mixed role reliever starters \n",
    "#To solve this replacing outliers with median  \n",
    "\n",
    "df.loc[df['IP/GS']>7.33,['IP/GS']]=df['IP/GS'].median()                      "
   ]
  },
  {
   "cell_type": "markdown",
   "metadata": {},
   "source": [
    "# 2 Sample  means T test \n",
    "# The goal of this test is to determine whether Starting pitchers with elite pitch efficency provide more length in their starts on average than the non elite group."
   ]
  },
  {
   "cell_type": "markdown",
   "metadata": {},
   "source": [
    "# Ho: u_elite_IP/GS=u_other_IP/GS\n",
    "# Ha: u_elite_IP/GS≠u_other_IP/GS"
   ]
  },
  {
   "cell_type": "code",
   "execution_count": 105,
   "metadata": {},
   "outputs": [],
   "source": [
    "# Elite B/P ratio pitchers\n",
    "elite_mean=df.loc[(df['B/P_Ratio']<.347) & (df['IP']>134),'IP/GS'].mean()\n",
    "elite_std=df.loc[(df['B/P_Ratio']<.347) & (df['IP']>134),'IP/GS'].std()\n",
    "elite_len=len(df.loc[(df['B/P_Ratio']<.347) & (df['IP']>134),'IP/GS'])"
   ]
  },
  {
   "cell_type": "code",
   "execution_count": 106,
   "metadata": {},
   "outputs": [],
   "source": [
    "other_mean=df.loc[(df['B/P_Ratio']>.347)& (df['IP']>134),'IP/GS'].mean()\n",
    "other_std=df.loc[(df['B/P_Ratio']>.347)& (df['IP']>134),'IP/GS'].std()\n",
    "other_len=len(df.loc[(df['B/P_Ratio']>.347)& (df['IP']>134),'IP/GS'])"
   ]
  },
  {
   "cell_type": "code",
   "execution_count": 107,
   "metadata": {},
   "outputs": [],
   "source": [
    "num=elite_mean-other_mean\n",
    "denom=np.sqrt(((elite_std**2)/elite_len)+((other_std**2)/other_len))"
   ]
  },
  {
   "cell_type": "code",
   "execution_count": 108,
   "metadata": {},
   "outputs": [
    {
     "name": "stdout",
     "output_type": "stream",
     "text": [
      "181 418\n"
     ]
    }
   ],
   "source": [
    "print(elite_len, other_len)"
   ]
  },
  {
   "cell_type": "code",
   "execution_count": 109,
   "metadata": {},
   "outputs": [
    {
     "data": {
      "text/plain": [
       "8.821586888622264"
      ]
     },
     "execution_count": 109,
     "metadata": {},
     "output_type": "execute_result"
    }
   ],
   "source": [
    "Test_stat=num/denom\n",
    "dof=other_len-1\n",
    "Test_stat"
   ]
  },
  {
   "cell_type": "code",
   "execution_count": 110,
   "metadata": {},
   "outputs": [
    {
     "data": {
      "text/plain": [
       "7.796248262128649e-18"
      ]
     },
     "execution_count": 110,
     "metadata": {},
     "output_type": "execute_result"
    }
   ],
   "source": [
    "import scipy.stats as scs #assuming alpha=.05\n",
    "p_val=scs.t.sf(Test_stat,dof)/2\n",
    "p_val"
   ]
  },
  {
   "cell_type": "markdown",
   "metadata": {},
   "source": [
    "# Between The SP group with elite pitch efficency (B/P ratio) and the non elite group, we did find a statistically significant difference in Innings Pitched to Games Started Ratio. This is proven by our p value of 10^-18 which is much smaller than our threshold of .025 in each tail."
   ]
  },
  {
   "cell_type": "code",
   "execution_count": 153,
   "metadata": {
    "scrolled": false
   },
   "outputs": [
    {
     "data": {
      "image/png": "[encoded data removed]",
      "text/plain": [
       "<Figure size 864x576 with 1 Axes>"
      ]
     },
     "metadata": {},
     "output_type": "display_data"
    }
   ],
   "source": [
    "#Creating graph to show how an elite O-Swing% affects strikeouts for a pitcher\n",
    "\n",
    "High_O=df.loc[(df['O-Swing%']>=.325),'SO'].mean()\n",
    "Low_O=df['SO'].mean()\n",
    "fig,ax=plt.subplots(figsize=(12,8))\n",
    "sns.barplot(y=[' All Starting Pitchers Population (2014-2019)','Elite O-Swing% Population'],x=[Low_O,High_O],orient='h',palette='Blues_d',ax=ax)\n",
    "ax.set_xlabel('Avg Season Strikeouts',fontsize=15)\n",
    "ax.set_yticklabels(labels=[' All Starting Pitchers (2014-2019)','Elite O-Swing% Population'],rotation=0,ha='right')\n",
    "ax.set_title('Average Strikeouts of All Starting Pitchers vs Elite O-Swing% Pitchers',fontsize=15)\n",
    "ax.tick_params(axis='both',which='major',labelsize=15)\n",
    "fig.savefig('Average Strikeouts of All Starting Pitchers vs Elite O-Swing% Pitchers.png',bbox_inches='tight')"
   ]
  }
 ],
 "metadata": {
  "kernelspec": {
   "display_name": "Python 3",
   "language": "python",
   "name": "python3"
  },
  "language_info": {
   "codemirror_mode": {
    "name": "ipython",
    "version": 3
   },
   "file_extension": ".py",
   "mimetype": "text/x-python",
   "name": "python",
   "nbconvert_exporter": "python",
   "pygments_lexer": "ipython3",
   "version": "3.7.6"
  }
 },
 "nbformat": 4,
 "nbformat_minor": 4
}
