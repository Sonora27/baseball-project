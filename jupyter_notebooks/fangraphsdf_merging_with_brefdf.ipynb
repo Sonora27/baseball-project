{
 "cells": [
  {
   "cell_type": "code",
   "execution_count": 2,
   "metadata": {
    "scrolled": true
   },
   "outputs": [],
   "source": [
    "import pandas as pd\n",
    "import numpy as np\n",
    "from pybaseball import pitching_stats\n",
    "pd.set_option('display.max_columns', 500)\n"
   ]
  },
  {
   "cell_type": "code",
   "execution_count": 4,
   "metadata": {},
   "outputs": [],
   "source": [
    "#Import the Baseball Reference dataset \n",
    "\n",
    "brefdf = pd.read_csv('Pitching_season_data_2014_to_2019.csv')"
   ]
  },
  {
   "cell_type": "code",
   "execution_count": 7,
   "metadata": {},
   "outputs": [],
   "source": [
    "#Use Pybaseball to get FanGraph's data from 2014 to 2019 and assign it to a different df\n",
    "\n",
    "fgdf = pitching_stats(2014, 2019)"
   ]
  },
  {
   "cell_type": "code",
   "execution_count": 11,
   "metadata": {},
   "outputs": [],
   "source": [
    "#Merging the two dataframs on Name and Season\n",
    "\n",
    "df = brefdf.merge(fgdf, left_on=['Name','Season'], right_on=['Name', 'Season'], how ='left')"
   ]
  },
  {
   "cell_type": "code",
   "execution_count": 13,
   "metadata": {},
   "outputs": [],
   "source": [
    "#Removing duplicate column markers of _x or _y\n",
    "\n",
    "df.columns=[col.split('_')[0] for col in df.columns]"
   ]
  },
  {
   "cell_type": "code",
   "execution_count": null,
   "metadata": {},
   "outputs": [],
   "source": [
    "#Creating final dataset CSV file\n",
    "\n",
    "df.to_csv('finalpitcherdataset.csv')"
   ]
  }
 ],
 "metadata": {
  "kernelspec": {
   "display_name": "Python 3",
   "language": "python",
   "name": "python3"
  },
  "language_info": {
   "codemirror_mode": {
    "name": "ipython",
    "version": 3
   },
   "file_extension": ".py",
   "mimetype": "text/x-python",
   "name": "python",
   "nbconvert_exporter": "python",
   "pygments_lexer": "ipython3",
   "version": "3.7.6"
  }
 },
 "nbformat": 4,
 "nbformat_minor": 4
}
