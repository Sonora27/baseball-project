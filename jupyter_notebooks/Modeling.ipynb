{
 "cells": [
  {
   "cell_type": "markdown",
   "metadata": {},
   "source": [
    "# Modeling Notebook\n",
    "## The goals of this notebook are the following:\n",
    "## Use feature selection techniques to determine final features for model\n",
    "## Build interpretable model with a certain level of accuracy for a Pitcher's season strikeout numbers"
   ]
  },
  {
   "cell_type": "code",
   "execution_count": 1,
   "metadata": {
    "scrolled": true
   },
   "outputs": [
    {
     "name": "stderr",
     "output_type": "stream",
     "text": [
      "\n",
      "Bad key \"text.kerning_factor\" on line 4 in\n",
      "/Users/joseramirez/anaconda3/lib/python3.7/site-packages/matplotlib/mpl-data/stylelib/_classic_test_patch.mplstyle.\n",
      "You probably need to get an updated matplotlibrc file from\n",
      "https://github.com/matplotlib/matplotlib/blob/v3.1.2/matplotlibrc.template\n",
      "or from the matplotlib source distribution\n"
     ]
    }
   ],
   "source": [
    "import pandas as pd\n",
    "pd.set_option('display.max_columns', 300)\n",
    "pd.set_option('display.max_rows', 200)\n",
    "\n",
    "import numpy as np\n",
    "from matplotlib import pyplot as plt\n",
    "from sklearn import linear_model\n",
    "from sklearn.linear_model import LinearRegression\n",
    "from sklearn.model_selection import train_test_split\n",
    "from sklearn import metrics\n",
    "from sklearn.preprocessing import PolynomialFeatures\n",
    "from sklearn.preprocessing import StandardScaler\n",
    "import seaborn as sns\n",
    "sns.set(style=\"whitegrid\")"
   ]
  },
  {
   "cell_type": "code",
   "execution_count": 2,
   "metadata": {},
   "outputs": [],
   "source": [
    "# Reading in dataset\n",
    "\n",
    "df=pd.read_csv('Cleanpitcherdataset.csv')"
   ]
  },
  {
   "cell_type": "code",
   "execution_count": 3,
   "metadata": {},
   "outputs": [],
   "source": [
    "# Dropping unnecessary columns\n",
    "\n",
    "df.drop(axis=1,labels='Unnamed: 0',inplace=True)"
   ]
  },
  {
   "cell_type": "code",
   "execution_count": 4,
   "metadata": {},
   "outputs": [
    {
     "data": {
      "text/plain": [
       "Index(['Name', 'Age', 'Lev', 'Tm', 'GS', 'IP', 'H', 'BB', 'SO', 'HR', 'HBP',\n",
       "       'ERA', '2B', '3B', 'Pit', 'Str', 'LD', 'PU', 'BAbip', 'Season', 'WAR',\n",
       "       'Balls', 'Pitches', 'BABIP', 'LOB%', 'FIP', 'LD%', 'GB%', 'FB%', 'FBv',\n",
       "       'SL%', 'SLv', 'CB%', 'CBv', 'CH%', 'CHv', 'wFB', 'wSL', 'wCB', 'wCH',\n",
       "       'O-Swing%', 'Z-Swing%', 'Swing%', 'O-Contact%', 'Z-Contact%',\n",
       "       'Contact%', 'Zone%', 'F-Strike%', 'SwStr%', 'Soft%', 'Med%', 'Hard%',\n",
       "       'Best_Pitch', '95mph+', 'O-Swing%_Elite', 'FStrike_elite',\n",
       "       'Fstrikeelite_95mph+', 'CH', 'FB', 'SL'],\n",
       "      dtype='object')"
      ]
     },
     "execution_count": 4,
     "metadata": {},
     "output_type": "execute_result"
    }
   ],
   "source": [
    "df.columns"
   ]
  },
  {
   "cell_type": "code",
   "execution_count": 5,
   "metadata": {
    "scrolled": true
   },
   "outputs": [
    {
     "data": {
      "text/plain": [
       "Name                    object\n",
       "Age                      int64\n",
       "Lev                     object\n",
       "Tm                      object\n",
       "GS                       int64\n",
       "IP                     float64\n",
       "H                        int64\n",
       "BB                       int64\n",
       "SO                       int64\n",
       "HR                       int64\n",
       "HBP                      int64\n",
       "ERA                    float64\n",
       "2B                       int64\n",
       "3B                       int64\n",
       "Pit                      int64\n",
       "Str                    float64\n",
       "LD                     float64\n",
       "PU                     float64\n",
       "BAbip                  float64\n",
       "Season                   int64\n",
       "WAR                    float64\n",
       "Balls                  float64\n",
       "Pitches                float64\n",
       "BABIP                  float64\n",
       "LOB%                   float64\n",
       "FIP                    float64\n",
       "LD%                    float64\n",
       "GB%                    float64\n",
       "FB%                    float64\n",
       "FBv                    float64\n",
       "SL%                    float64\n",
       "SLv                    float64\n",
       "CB%                    float64\n",
       "CBv                    float64\n",
       "CH%                    float64\n",
       "CHv                    float64\n",
       "wFB                    float64\n",
       "wSL                    float64\n",
       "wCB                    float64\n",
       "wCH                    float64\n",
       "O-Swing%               float64\n",
       "Z-Swing%               float64\n",
       "Swing%                 float64\n",
       "O-Contact%             float64\n",
       "Z-Contact%             float64\n",
       "Contact%               float64\n",
       "Zone%                  float64\n",
       "F-Strike%              float64\n",
       "SwStr%                 float64\n",
       "Soft%                  float64\n",
       "Med%                   float64\n",
       "Hard%                  float64\n",
       "Best_Pitch              object\n",
       "95mph+                   int64\n",
       "O-Swing%_Elite           int64\n",
       "FStrike_elite            int64\n",
       "Fstrikeelite_95mph+      int64\n",
       "CH                       int64\n",
       "FB                       int64\n",
       "SL                       int64\n",
       "dtype: object"
      ]
     },
     "execution_count": 5,
     "metadata": {},
     "output_type": "execute_result"
    }
   ],
   "source": [
    "df.dtypes"
   ]
  },
  {
   "cell_type": "code",
   "execution_count": 6,
   "metadata": {},
   "outputs": [
    {
     "data": {
      "text/plain": [
       "(1198, 60)"
      ]
     },
     "execution_count": 6,
     "metadata": {},
     "output_type": "execute_result"
    }
   ],
   "source": [
    "# Checking shape of dataframe\n",
    "\n",
    "df.shape "
   ]
  },
  {
   "cell_type": "code",
   "execution_count": 7,
   "metadata": {
    "scrolled": true
   },
   "outputs": [
    {
     "data": {
      "text/plain": [
       "0"
      ]
     },
     "execution_count": 7,
     "metadata": {},
     "output_type": "execute_result"
    }
   ],
   "source": [
    "# Checking to see if there are nulls\n",
    "\n",
    "df.isna().any().sum() "
   ]
  },
  {
   "cell_type": "code",
   "execution_count": 8,
   "metadata": {},
   "outputs": [],
   "source": [
    "df_features=df[df.Season!=2019] #using only 2014-2018 for training and testing"
   ]
  },
  {
   "cell_type": "code",
   "execution_count": 9,
   "metadata": {
    "scrolled": true
   },
   "outputs": [
    {
     "name": "stderr",
     "output_type": "stream",
     "text": [
      "/Users/scogs/opt/anaconda3/lib/python3.8/site-packages/pandas/core/frame.py:3990: SettingWithCopyWarning: \n",
      "A value is trying to be set on a copy of a slice from a DataFrame\n",
      "\n",
      "See the caveats in the documentation: https://pandas.pydata.org/pandas-docs/stable/user_guide/indexing.html#returning-a-view-versus-a-copy\n",
      "  return super().drop(\n"
     ]
    }
   ],
   "source": [
    "df_features.drop(axis=1,labels=['Name','Lev','Tm','Best_Pitch','SO'],inplace=True)"
   ]
  },
  {
   "cell_type": "code",
   "execution_count": 10,
   "metadata": {},
   "outputs": [
    {
     "data": {
      "text/plain": [
       "(999, 55)"
      ]
     },
     "execution_count": 10,
     "metadata": {},
     "output_type": "execute_result"
    }
   ],
   "source": [
    "df_features.shape"
   ]
  },
  {
   "cell_type": "code",
   "execution_count": 11,
   "metadata": {},
   "outputs": [],
   "source": [
    "target=df.loc[df.Season!=2019,'SO'] #target variable Strikeouts 2014-2018"
   ]
  },
  {
   "cell_type": "code",
   "execution_count": 12,
   "metadata": {
    "scrolled": false
   },
   "outputs": [],
   "source": [
    "X_train, X_test, y_train, y_test = train_test_split(df_features, target, random_state=9,test_size=0.2)"
   ]
  },
  {
   "cell_type": "code",
   "execution_count": 13,
   "metadata": {},
   "outputs": [],
   "source": [
    "scaler = StandardScaler()\n",
    "scaler.fit(X_train)\n",
    "X_train = pd.DataFrame(data=scaler.transform(X_train), columns=df_features.columns)\n",
    "X_test = pd.DataFrame(data=scaler.transform(X_test), columns=df_features.columns)"
   ]
  },
  {
   "cell_type": "code",
   "execution_count": 14,
   "metadata": {},
   "outputs": [
    {
     "name": "stdout",
     "output_type": "stream",
     "text": [
      "Training set - Features:  (799, 55) Target:  (799,)\n",
      "Training set - Features:  (200, 55) Target:  (200,)\n"
     ]
    }
   ],
   "source": [
    "print(\"Training set - Features: \", X_train.shape, \"Target: \", y_train.shape) \n",
    "print(\"Training set - Features: \", X_test.shape, \"Target: \",y_test.shape)"
   ]
  },
  {
   "cell_type": "markdown",
   "metadata": {},
   "source": [
    "## Basic Linear Regression Modeling"
   ]
  },
  {
   "cell_type": "code",
   "execution_count": 15,
   "metadata": {},
   "outputs": [
    {
     "name": "stdout",
     "output_type": "stream",
     "text": [
      "117.65707133917391\n",
      "[ 2.98769901e-01 -3.76206542e+00  3.04427313e+01 -4.17064916e+01\n",
      "  6.27858191e+00  1.60376561e+01  8.29536221e-01  2.87981025e+00\n",
      " -1.48440516e+00 -4.58771190e-01  3.86313972e+01 -1.58265900e+00\n",
      "  1.33526236e-01 -1.68994410e+00  5.02901492e+00 -2.27772180e+00\n",
      "  1.69521963e+01 -5.07484411e+01  4.61182706e+01  3.91755415e+00\n",
      "  1.37444522e+00 -7.36547703e+00 -5.59106469e-01 -7.25501989e-01\n",
      "  5.95189719e-01 -1.45696583e-01 -2.69839760e-01 -9.14540304e-02\n",
      "  3.64620423e-02 -2.57447825e-01 -7.19278458e-01  1.35519942e+00\n",
      " -3.23176697e+00 -6.70132150e-01 -9.24038517e-01 -1.88438402e+00\n",
      " -3.72247110e+00 -1.23728205e+00 -4.41784989e-01  1.19308981e+00\n",
      "  2.58927242e+00 -5.57949027e+00 -2.34607212e+00  3.13052459e-01\n",
      "  4.37062505e+00  1.74437745e+01  2.58169739e+01  3.04403359e+01\n",
      " -1.90396311e-01 -3.48951134e-01  1.06712946e-01  1.50492127e-01\n",
      "  2.03235463e-01  2.30171528e-01 -5.87486944e-01]\n"
     ]
    }
   ],
   "source": [
    "lm_basic = LinearRegression() #basic linear model with no feature selection\n",
    "lm_basic = lm_basic.fit(X_train, y_train)\n",
    "print(lm_basic.intercept_)\n",
    "print(lm_basic.coef_)"
   ]
  },
  {
   "cell_type": "code",
   "execution_count": 16,
   "metadata": {},
   "outputs": [
    {
     "name": "stdout",
     "output_type": "stream",
     "text": [
      "R^2 Score: 0.9829242700536219\n"
     ]
    }
   ],
   "source": [
    "print (\"R^2 Score:\", lm_basic.score(X_train, y_train)) #training R squared"
   ]
  },
  {
   "cell_type": "code",
   "execution_count": 17,
   "metadata": {},
   "outputs": [],
   "source": [
    "y_train_pred = lm_basic.predict(X_train) "
   ]
  },
  {
   "cell_type": "code",
   "execution_count": 18,
   "metadata": {},
   "outputs": [
    {
     "name": "stdout",
     "output_type": "stream",
     "text": [
      "R^2 Score: 0.9701556144462419\n"
     ]
    }
   ],
   "source": [
    "print (\"R^2 Score:\", lm_basic.score(X_test, y_test)) #test R squared"
   ]
  },
  {
   "cell_type": "code",
   "execution_count": 19,
   "metadata": {},
   "outputs": [
    {
     "name": "stdout",
     "output_type": "stream",
     "text": [
      "Mean Absolute Error: 5.727804195490672\n",
      "Mean Squared Error: 52.32161884000457\n",
      "Root Mean Squared Error: 7.233368429715479\n"
     ]
    }
   ],
   "source": [
    "\n",
    "from sklearn import metrics\n",
    "\n",
    "train_mae = metrics.mean_absolute_error((y_train), (y_train_pred))\n",
    "train_mse = metrics.mean_squared_error((y_train), (y_train_pred))\n",
    "train_rmse = np.sqrt(metrics.mean_squared_error((y_train), (y_train_pred)))\n",
    "\n",
    "\n",
    "print('Mean Absolute Error:', train_mae )\n",
    "print('Mean Squared Error:',  train_mse)\n",
    "print('Root Mean Squared Error:' , train_rmse)"
   ]
  },
  {
   "cell_type": "code",
   "execution_count": 20,
   "metadata": {},
   "outputs": [
    {
     "name": "stdout",
     "output_type": "stream",
     "text": [
      "Mean Absolute Error: 6.107268563008137\n",
      "Mean Squared Error: 74.78760608750117\n",
      "Root Mean Squared Error: 8.647982775624682\n"
     ]
    }
   ],
   "source": [
    "y_pred = lm_basic.predict(X_test)\n",
    "test_mae = metrics.mean_absolute_error((y_test), (y_pred))\n",
    "test_mse = metrics.mean_squared_error((y_test), (y_pred))\n",
    "test_rmse = np.sqrt(metrics.mean_squared_error((y_test), (y_pred)))\n",
    "\n",
    "print('Mean Absolute Error:', test_mae )\n",
    "print('Mean Squared Error:',  test_mse)\n",
    "print('Root Mean Squared Error:' , test_rmse)\n",
    "\n"
   ]
  },
  {
   "cell_type": "code",
   "execution_count": 21,
   "metadata": {},
   "outputs": [
    {
     "name": "stdout",
     "output_type": "stream",
     "text": [
      "Training:  7 vs. Testing:  8\n"
     ]
    }
   ],
   "source": [
    "print('Training: ', int(train_rmse), \"vs. Testing: \", int(test_rmse))"
   ]
  },
  {
   "cell_type": "markdown",
   "metadata": {},
   "source": [
    "# Recursive Feature Elimination Model "
   ]
  },
  {
   "cell_type": "code",
   "execution_count": 22,
   "metadata": {},
   "outputs": [],
   "source": [
    "from sklearn.feature_selection import RFECV"
   ]
  },
  {
   "cell_type": "code",
   "execution_count": 23,
   "metadata": {},
   "outputs": [],
   "source": [
    "ols = linear_model.LinearRegression()"
   ]
  },
  {
   "cell_type": "code",
   "execution_count": 24,
   "metadata": {},
   "outputs": [],
   "source": [
    "selector = RFECV(estimator=ols, step=1, cv=5, scoring='neg_mean_squared_error', n_jobs=-1)"
   ]
  },
  {
   "cell_type": "code",
   "execution_count": 25,
   "metadata": {},
   "outputs": [
    {
     "data": {
      "text/plain": [
       "RFECV(cv=5, estimator=LinearRegression(), n_jobs=-1,\n",
       "      scoring='neg_mean_squared_error')"
      ]
     },
     "execution_count": 25,
     "metadata": {},
     "output_type": "execute_result"
    }
   ],
   "source": [
    "selector.fit(X_train, y_train)"
   ]
  },
  {
   "cell_type": "code",
   "execution_count": 26,
   "metadata": {},
   "outputs": [],
   "source": [
    "selected_rfe = X_train.columns[selector.support_]\n",
    "removed_rfe = X_train.columns[~selector.support_]"
   ]
  },
  {
   "cell_type": "code",
   "execution_count": 27,
   "metadata": {
    "scrolled": true
   },
   "outputs": [
    {
     "data": {
      "text/plain": [
       "34"
      ]
     },
     "execution_count": 27,
     "metadata": {},
     "output_type": "execute_result"
    }
   ],
   "source": [
    "len(list(selected_rfe))"
   ]
  },
  {
   "cell_type": "code",
   "execution_count": 28,
   "metadata": {},
   "outputs": [
    {
     "data": {
      "text/plain": [
       "Index(['GS', 'IP', 'H', 'BB', 'HR', 'HBP', 'ERA', '2B', 'Pit', 'Str', 'PU',\n",
       "       'BAbip', 'Season', 'WAR', 'Balls', 'Pitches', 'BABIP', 'LOB%', 'FIP',\n",
       "       'CH%', 'CHv', 'wFB', 'wCH', 'O-Swing%', 'Swing%', 'O-Contact%',\n",
       "       'Z-Contact%', 'Contact%', 'Zone%', 'SwStr%', 'Soft%', 'Med%', 'Hard%',\n",
       "       'SL'],\n",
       "      dtype='object')"
      ]
     },
     "execution_count": 28,
     "metadata": {},
     "output_type": "execute_result"
    }
   ],
   "source": [
    "selected_rfe"
   ]
  },
  {
   "cell_type": "code",
   "execution_count": 29,
   "metadata": {
    "scrolled": true
   },
   "outputs": [
    {
     "data": {
      "text/plain": [
       "21"
      ]
     },
     "execution_count": 29,
     "metadata": {},
     "output_type": "execute_result"
    }
   ],
   "source": [
    "len(list(removed_rfe))"
   ]
  },
  {
   "cell_type": "code",
   "execution_count": 30,
   "metadata": {},
   "outputs": [],
   "source": [
    "lm_rfe = LinearRegression()\n",
    "\n",
    "lm_rfe = lm_rfe.fit(X_train[selected_rfe], y_train)\n",
    "\n",
    "y_rfe = lm_rfe.predict(X_train[selected_rfe])\n",
    "\n",
    "trainRFE_mae = metrics.mean_absolute_error((y_train), (y_rfe))\n",
    "trainRFE_mse = metrics.mean_squared_error((y_train), (y_rfe))\n",
    "trainRFE_rmse = np.sqrt(metrics.mean_squared_error(y_train, y_rfe))\n",
    "\n",
    "\n",
    "y_pred_rfe = lm_rfe.predict(X_test[selected_rfe])\n",
    "testRFE_mae = metrics.mean_absolute_error((y_test), (y_pred_rfe))\n",
    "testRFE_mse = metrics.mean_squared_error((y_test), (y_pred_rfe))\n",
    "testRFE_rmse = np.sqrt(metrics.mean_squared_error((y_test), (y_pred_rfe)))\n",
    "\n",
    "\n"
   ]
  },
  {
   "cell_type": "code",
   "execution_count": 31,
   "metadata": {},
   "outputs": [
    {
     "name": "stdout",
     "output_type": "stream",
     "text": [
      "Training Mean Absolute Error: 5.789603739891552\n",
      "Training Mean Squared Error: 53.555142558678696\n",
      "Training Root Mean Squared Error: 7.318137916073917\n",
      "Test Mean Absolute Error: 6.156571289473906\n",
      "Test Mean Squared Error: 77.13931947874427\n",
      "Test Root Mean Squared Error: 8.782899263839035\n"
     ]
    }
   ],
   "source": [
    "print('Training Mean Absolute Error:', trainRFE_mae )\n",
    "print('Training Mean Squared Error:',  trainRFE_mse)\n",
    "print('Training Root Mean Squared Error:' , trainRFE_rmse)\n",
    "print('Test Mean Absolute Error:', testRFE_mae )\n",
    "print('Test Mean Squared Error:',  testRFE_mse)\n",
    "print('Test Root Mean Squared Error:' , testRFE_rmse)"
   ]
  },
  {
   "cell_type": "code",
   "execution_count": 32,
   "metadata": {},
   "outputs": [
    {
     "name": "stdout",
     "output_type": "stream",
     "text": [
      "R^2 Score train: 0.9825216961583657\n",
      "R^2 Score test: 0.9692171509115477\n"
     ]
    }
   ],
   "source": [
    "print (\"R^2 Score train:\", lm_rfe.score(X_train[selected_rfe], y_train))\n",
    "print (\"R^2 Score test:\", lm_rfe.score(X_test[selected_rfe], y_test))"
   ]
  },
  {
   "cell_type": "code",
   "execution_count": 33,
   "metadata": {
    "scrolled": true
   },
   "outputs": [
    {
     "data": {
      "text/plain": [
       "array([ -3.62600432,  25.85180735, -39.96738961,   6.56261869,\n",
       "        16.76504081,   0.79293351,   2.66830746,  -0.89713463,\n",
       "        39.0296848 ,  -1.19678287,  -1.14579753,   4.94457759,\n",
       "        -2.60397306,  16.4276848 , -51.02172541,  47.26078211,\n",
       "         3.98555395,   1.25305524,  -7.05400818,  -0.84642286,\n",
       "         1.07118295,  -1.76782614,  -1.23380131,  -2.43367986,\n",
       "        -2.60438716,   1.25055683,   2.35460807,  -6.04304573,\n",
       "        -1.44176096,   3.4141885 ,  18.24740188,  27.37602917,\n",
       "        32.18045256,  -0.77075281])"
      ]
     },
     "execution_count": 33,
     "metadata": {},
     "output_type": "execute_result"
    }
   ],
   "source": [
    "lm_rfe.coef_ #coefficients for features in model"
   ]
  },
  {
   "cell_type": "markdown",
   "metadata": {},
   "source": [
    "# Select K Best Features Model"
   ]
  },
  {
   "cell_type": "code",
   "execution_count": 34,
   "metadata": {},
   "outputs": [
    {
     "data": {
      "text/plain": [
       "SelectKBest(k=30, score_func=<function f_regression at 0x7f93d0f605e0>)"
      ]
     },
     "execution_count": 34,
     "metadata": {},
     "output_type": "execute_result"
    }
   ],
   "source": [
    "from sklearn.feature_selection import SelectKBest, f_regression,mutual_info_regression\n",
    "\n",
    "selector = SelectKBest(f_regression, k=30)\n",
    "\n",
    "selector.fit(X_train, y_train)"
   ]
  },
  {
   "cell_type": "code",
   "execution_count": 35,
   "metadata": {},
   "outputs": [],
   "source": [
    "selected_columns = X_train.columns[selector.get_support()]\n",
    "removed_columns = X_train.columns[~selector.get_support()]"
   ]
  },
  {
   "cell_type": "code",
   "execution_count": 36,
   "metadata": {
    "scrolled": true
   },
   "outputs": [
    {
     "data": {
      "text/plain": [
       "['Age',\n",
       " 'LD',\n",
       " 'PU',\n",
       " 'BAbip',\n",
       " 'Season',\n",
       " 'BABIP',\n",
       " 'LD%',\n",
       " 'GB%',\n",
       " 'FB%',\n",
       " 'SL%',\n",
       " 'SLv',\n",
       " 'CB%',\n",
       " 'CBv',\n",
       " 'CH%',\n",
       " 'Z-Swing%',\n",
       " 'Zone%',\n",
       " 'Soft%',\n",
       " 'Med%',\n",
       " 'Hard%',\n",
       " '95mph+',\n",
       " 'FStrike_elite',\n",
       " 'Fstrikeelite_95mph+',\n",
       " 'CH',\n",
       " 'FB',\n",
       " 'SL']"
      ]
     },
     "execution_count": 36,
     "metadata": {},
     "output_type": "execute_result"
    }
   ],
   "source": [
    "list(removed_columns)"
   ]
  },
  {
   "cell_type": "code",
   "execution_count": 37,
   "metadata": {},
   "outputs": [
    {
     "name": "stdout",
     "output_type": "stream",
     "text": [
      "Training Root Mean Squared Error: 8.45856789795153\n",
      "Testing Root Mean Squared Error: 10.328862451795054\n"
     ]
    }
   ],
   "source": [
    "lm_kbest = LinearRegression()\n",
    "\n",
    "lm_kbest = lm_kbest.fit(X_train[selected_columns], y_train)\n",
    "\n",
    "y_train_kbest = lm_kbest.predict(X_train[selected_columns])\n",
    "\n",
    "\n",
    "trainK_rmse = np.sqrt(metrics.mean_squared_error(y_train, y_train_kbest))\n",
    "\n",
    "\n",
    "print('Training Root Mean Squared Error:' , trainK_rmse)\n",
    "\n",
    "y_kbest = lm_kbest.predict(X_test[selected_columns])\n",
    "\n",
    "testK_rmse = np.sqrt(metrics.mean_squared_error(y_test, y_kbest))\n",
    "\n",
    "print('Testing Root Mean Squared Error:' , testK_rmse)"
   ]
  },
  {
   "cell_type": "markdown",
   "metadata": {},
   "source": [
    "# Ridge Model "
   ]
  },
  {
   "cell_type": "code",
   "execution_count": 50,
   "metadata": {},
   "outputs": [],
   "source": [
    "from sklearn.linear_model import Ridge"
   ]
  },
  {
   "cell_type": "code",
   "execution_count": 55,
   "metadata": {},
   "outputs": [
    {
     "data": {
      "text/plain": [
       "Ridge()"
      ]
     },
     "execution_count": 55,
     "metadata": {},
     "output_type": "execute_result"
    }
   ],
   "source": [
    "clf = Ridge(alpha=1.0)\n",
    "clf.fit(X_train[selected_rfe],y_train)"
   ]
  },
  {
   "cell_type": "code",
   "execution_count": 56,
   "metadata": {},
   "outputs": [
    {
     "data": {
      "text/plain": [
       "array([ -3.94101185,  26.57348296, -36.38932432,   6.40532975,\n",
       "        16.72465193,   0.89854591,   2.74872803,  -0.91013387,\n",
       "        34.93518243,   1.6521295 ,  -1.11175381,   4.57873036,\n",
       "        -2.74436403,  18.04580051, -31.4097423 ,  26.77498331,\n",
       "         3.81879985,   1.26892314,  -6.15581282,  -1.13875536,\n",
       "         1.10238065,  -1.29068128,  -1.06122261,  -1.96348623,\n",
       "        -3.22173445,  -0.11948468,   0.74005004,  -2.78478764,\n",
       "        -1.60424406,   4.82432664,   1.05347881,   1.63533647,\n",
       "         3.60474584,  -0.71459504])"
      ]
     },
     "execution_count": 56,
     "metadata": {},
     "output_type": "execute_result"
    }
   ],
   "source": [
    "clf.coef_"
   ]
  },
  {
   "cell_type": "code",
   "execution_count": 57,
   "metadata": {},
   "outputs": [
    {
     "data": {
      "text/plain": [
       "117.65707133917387"
      ]
     },
     "execution_count": 57,
     "metadata": {},
     "output_type": "execute_result"
    }
   ],
   "source": [
    "clf.intercept_"
   ]
  },
  {
   "cell_type": "code",
   "execution_count": 62,
   "metadata": {},
   "outputs": [
    {
     "name": "stdout",
     "output_type": "stream",
     "text": [
      "R^2 Score train: 0.9818853430264904\n",
      "R^2 Score test: 0.9722978024936014\n"
     ]
    }
   ],
   "source": [
    "print (\"R^2 Score train:\", clf.score(X_train[selected_rfe], y_train))\n",
    "print (\"R^2 Score test:\", clf.score(X_test[selected_rfe], y_test))"
   ]
  },
  {
   "cell_type": "code",
   "execution_count": 61,
   "metadata": {},
   "outputs": [],
   "source": [
    "y_pred_train_clf=clf.predict(X_train[selected_rfe])"
   ]
  },
  {
   "cell_type": "code",
   "execution_count": 60,
   "metadata": {},
   "outputs": [],
   "source": [
    "y_pred_test_clf=clf.predict(X_test[selected_rfe])"
   ]
  },
  {
   "cell_type": "code",
   "execution_count": 67,
   "metadata": {},
   "outputs": [],
   "source": [
    "trainclf_mae = metrics.mean_absolute_error((y_train), (y_pred_train_clf))\n",
    "trainclf_mse = metrics.mean_squared_error((y_train), (y_pred_train_clf))\n",
    "trainclf_rmse = np.sqrt(metrics.mean_squared_error((y_train), (y_pred_train_clf)))"
   ]
  },
  {
   "cell_type": "code",
   "execution_count": 71,
   "metadata": {},
   "outputs": [
    {
     "name": "stdout",
     "output_type": "stream",
     "text": [
      "Train Mean Absolute Error: 5.9020122661830055\n",
      "Train Mean Squared Error: 55.50498752098343\n",
      "Train Root Mean Squared Error: 7.450166945846477\n"
     ]
    }
   ],
   "source": [
    "print('Train Mean Absolute Error:', trainclf_mae )\n",
    "print('Train Mean Squared Error:',  trainclf_mse)\n",
    "print('Train Root Mean Squared Error:' , trainclf_rmse)"
   ]
  },
  {
   "cell_type": "code",
   "execution_count": 69,
   "metadata": {},
   "outputs": [],
   "source": [
    "testclf_mae = metrics.mean_absolute_error((y_test), (y_pred_rfe))\n",
    "testclf_mse = metrics.mean_squared_error((y_test), (y_pred_rfe))\n",
    "testclf_rmse = np.sqrt(metrics.mean_squared_error((y_test), (y_pred_rfe)))"
   ]
  },
  {
   "cell_type": "code",
   "execution_count": 70,
   "metadata": {},
   "outputs": [
    {
     "name": "stdout",
     "output_type": "stream",
     "text": [
      "Test Mean Absolute Error: 6.156571289473906\n",
      "Test Mean Squared Error: 77.13931947874427\n",
      "Test Root Mean Squared Error: 8.782899263839035\n"
     ]
    }
   ],
   "source": [
    "print('Test Mean Absolute Error:', testclf_mae )\n",
    "print('Test Mean Squared Error:',  testclf_mse)\n",
    "print('Test Root Mean Squared Error:' , testclf_rmse) #performed similar to recursive feature"
   ]
  },
  {
   "cell_type": "markdown",
   "metadata": {},
   "source": [
    "# Final Model"
   ]
  },
  {
   "cell_type": "markdown",
   "metadata": {},
   "source": [
    "# We decided to choose the recursive feature elimination model. Even though, the basic linear regression model performed slightly better. The recursive feature elimination model still performed well above our expectations and it uses significantly less features. The model achieved an R-squared of .98 on the training data and .97 on the testing data. We also achived a Root Mean Square Error of 8.8 on the testing data. In other words, Our predictions were off by an average of about 9 strikeouts."
   ]
  },
  {
   "cell_type": "code",
   "execution_count": 38,
   "metadata": {},
   "outputs": [
    {
     "data": {
      "text/plain": [
       "Index(['GS', 'IP', 'H', 'BB', 'HR', 'HBP', 'ERA', '2B', 'Pit', 'Str', 'PU',\n",
       "       'BAbip', 'Season', 'WAR', 'Balls', 'Pitches', 'BABIP', 'LOB%', 'FIP',\n",
       "       'CH%', 'CHv', 'wFB', 'wCH', 'O-Swing%', 'Swing%', 'O-Contact%',\n",
       "       'Z-Contact%', 'Contact%', 'Zone%', 'SwStr%', 'Soft%', 'Med%', 'Hard%',\n",
       "       'SL'],\n",
       "      dtype='object')"
      ]
     },
     "execution_count": 38,
     "metadata": {},
     "output_type": "execute_result"
    }
   ],
   "source": [
    "selected_rfe"
   ]
  },
  {
   "cell_type": "code",
   "execution_count": 40,
   "metadata": {},
   "outputs": [],
   "source": [
    "import pickle\n",
    "\n",
    "pickle_out = open(\"model.pickle\",\"wb\") #saving model and selected features\n",
    "pickle.dump([lm_rfe,selected_rfe],pickle_out)\n",
    "pickle_out.close()"
   ]
  },
  {
   "cell_type": "code",
   "execution_count": 129,
   "metadata": {},
   "outputs": [
    {
     "data": {
      "text/plain": [
       "0.8191144515166847"
      ]
     },
     "execution_count": 129,
     "metadata": {},
     "output_type": "execute_result"
    }
   ],
   "source": [
    "df['Balls'].corr((df['SO']))"
   ]
  },
  {
   "cell_type": "code",
   "execution_count": 130,
   "metadata": {},
   "outputs": [
    {
     "data": {
      "text/plain": [
       "<matplotlib.collections.PathCollection at 0x7f93f2275fa0>"
      ]
     },
     "execution_count": 130,
     "metadata": {},
     "output_type": "execute_result"
    },
    {
     "data": {
      "image/png": "[encoded data removed]",
      "text/plain": [
       "<Figure size 432x288 with 1 Axes>"
      ]
     },
     "metadata": {},
     "output_type": "display_data"
    }
   ],
   "source": [
    "plt.scatter(df['Balls'],df['SO'])"
   ]
  },
  {
   "cell_type": "code",
   "execution_count": null,
   "metadata": {},
   "outputs": [],
   "source": []
  }
 ],
 "metadata": {
  "kernelspec": {
   "display_name": "Python 3",
   "language": "python",
   "name": "python3"
  },
  "language_info": {
   "codemirror_mode": {
    "name": "ipython",
    "version": 3
   },
   "file_extension": ".py",
   "mimetype": "text/x-python",
   "name": "python",
   "nbconvert_exporter": "python",
   "pygments_lexer": "ipython3",
   "version": "3.7.6"
  }
 },
 "nbformat": 4,
 "nbformat_minor": 4
}
